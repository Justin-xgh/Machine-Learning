{
 "cells": [
  {
   "cell_type": "code",
   "execution_count": 2,
   "id": "723ccbfa",
   "metadata": {},
   "outputs": [
    {
     "name": "stdout",
     "output_type": "stream",
     "text": [
      "这个程序模拟两个选手A和B的某种竞技比赛\n",
      "程序运行需要A和B的能力值（以0到1之间的小数表示）\n",
      "请输入A的能力值（0-1）：0.66\n",
      "请输入B的能力值（0-1）：0.58\n",
      "模拟比赛的场次：500\n",
      "竞技分析开始，共模拟500场比赛\n",
      "选手A获胜384场比赛，占比76.8%\n",
      "选手B获胜116场比赛，占比23.2%\n"
     ]
    }
   ],
   "source": [
    "# 体育竞技分析\n",
    "# 导入python资源包\n",
    "from random import random\n",
    " \n",
    "# 用户体验模块 \n",
    "def printIntro():\n",
    "    print(\"这个程序模拟两个选手A和B的某种竞技比赛\")\n",
    "    print(\"程序运行需要A和B的能力值（以0到1之间的小数表示）\")\n",
    " \n",
    "# 获得A和B的能力值与场次模块 \n",
    "def getIntputs():\n",
    "    a = eval(input(\"请输入A的能力值（0-1）：\"))\n",
    "    b = eval(input(\"请输入B的能力值（0-1）：\"))\n",
    "    n = eval(input(\"模拟比赛的场次：\"))\n",
    "    return a, b, n\n",
    " \n",
    "# 模拟n局比赛模块 \n",
    "def simNGames(n, probA, probB):\n",
    "    winsA, winsB = 0, 0\n",
    "    for i in range(n):\n",
    "        scoreA, scoreB = simOneGame(probA, probB)\n",
    "        if scoreA > scoreB:\n",
    "            winsA += 1\n",
    "        else:\n",
    "            winsB += 1\n",
    "    return winsA, winsB\n",
    " \n",
    "# 判断比赛结束条件 \n",
    "def gameOver(a, b):\n",
    "    return a == 15 or b == 15\n",
    " \n",
    "# 模拟n次单局比赛=模拟n局比赛 \n",
    "def simOneGame(probA, probB):\n",
    "    scoreA, scoreB = 0, 0\n",
    "    serving = \"A\"\n",
    "    while not gameOver(scoreA, scoreB):\n",
    "        if serving == \"A\":\n",
    "            if random() < probA:\n",
    "                scoreA += 1\n",
    "            else:\n",
    "                serving = \"B\"\n",
    "        else:\n",
    "            if random() < probB:\n",
    "                scoreB += 1\n",
    "            else:\n",
    "                serving = \"A\"\n",
    "    return scoreA, scoreB\n",
    " \n",
    "# 打印结果模块 \n",
    "def printSummary(winsA, winsB):\n",
    "    n = winsA + winsB\n",
    "    print(\"竞技分析开始，共模拟{}场比赛\".format(n))\n",
    "    print(\"选手A获胜{}场比赛，占比{:0.1%}\".format(winsA, winsA / n))\n",
    "    print(\"选手B获胜{}场比赛，占比{:0.1%}\".format(winsB, winsB / n))\n",
    " \n",
    " \n",
    "def main():\n",
    "    printIntro()    \n",
    "    probA, probB, n = getIntputs()                # 获得用户A、B能力值与比赛场次N\n",
    "    winsA, winsB = simNGames(n, probA, probB)     # 获得A与B的场次\n",
    "    printSummary(winsA, winsB)                    # 返回A与B的结果\n",
    " \n",
    " \n",
    "main()\n"
   ]
  },
  {
   "cell_type": "code",
   "execution_count": 3,
   "id": "1d1e4579",
   "metadata": {},
   "outputs": [
    {
     "name": "stdout",
     "output_type": "stream",
     "text": [
      "14930352\n"
     ]
    }
   ],
   "source": [
    "# 斐波那契数列\n",
    "cache = {}\n",
    "\n",
    "def fib(number):\n",
    "    if number in cache:\n",
    "        return cache[number]\n",
    "    if number == 0 or number == 1:\n",
    "        return 1\n",
    "    else:\n",
    "        cache[number] = fib(number - 1) + fib(number - 2)\n",
    "    return cache[number]\n",
    "\n",
    "if __name__ == '__main__':\n",
    "    print(fib(35))"
   ]
  },
  {
   "cell_type": "code",
   "execution_count": 6,
   "id": "ee21eaec",
   "metadata": {},
   "outputs": [
    {
     "name": "stdout",
     "output_type": "stream",
     "text": [
      "29\n"
     ]
    }
   ],
   "source": [
    "# 0-1背包问题\n",
    "# 循环的⽅式，自底向上求解\n",
    "cache = {}\n",
    "items = range(1,9)\n",
    "weights = [10,1,5,9,10,7,3,12,5]\n",
    "values = [10,20,30,15,40,6,9,12,18]\n",
    "# 最⼤承重能⼒\n",
    "W = 4\n",
    "\n",
    "def knapsack():\n",
    "    for w in range(W+1): # w=0,1,2,3,4\n",
    "        cache[get_key(0,w)] = 0\n",
    "    for i in items: # i=1，2，3，4，5，6，7，8\n",
    "        cache[get_key(i,0)] = 0\n",
    "        for w in range(W+1):\n",
    "            if w >= weights[i]:\n",
    "                if cache[get_key(i-1,w-weights[i])] + values[i] > cache[get_key(i-1,w)]:\n",
    "                    cache[get_key(i,w)] = values[i] + cache[get_key(i-1,w-weights[i])]\n",
    "                else:\n",
    "                    cache[get_key(i,w)] = cache[get_key(i-1,w)]\n",
    "            else:\n",
    "                cache[get_key(i,w)] = cache[get_key(i-1,w)]\n",
    "    return cache[get_key(8,W)]\n",
    "\n",
    "def get_key(i,w):\n",
    "    return str(i)+','+str(w)\n",
    "\n",
    "if __name__ == '__main__':\n",
    "    # 背包把所有东西都能装进去做假设开始\n",
    "    print(knapsack())"
   ]
  },
  {
   "cell_type": "code",
   "execution_count": 33,
   "id": "daaaf440",
   "metadata": {},
   "outputs": [
    {
     "name": "stdout",
     "output_type": "stream",
     "text": [
      "PI: 3.14\n",
      "3.14\n"
     ]
    }
   ],
   "source": [
    "# const.py\n",
    " \n",
    "PI = 3.14\n",
    " \n",
    " \n",
    "def train():\n",
    "    print(\"PI:\", PI)\n",
    " \n",
    "train()"
   ]
  },
  {
   "cell_type": "code",
   "execution_count": null,
   "id": "823406a2",
   "metadata": {},
   "outputs": [],
   "source": []
  }
 ],
 "metadata": {
  "kernelspec": {
   "display_name": "Python 3 (ipykernel)",
   "language": "python",
   "name": "python3"
  },
  "language_info": {
   "codemirror_mode": {
    "name": "ipython",
    "version": 3
   },
   "file_extension": ".py",
   "mimetype": "text/x-python",
   "name": "python",
   "nbconvert_exporter": "python",
   "pygments_lexer": "ipython3",
   "version": "3.9.12"
  }
 },
 "nbformat": 4,
 "nbformat_minor": 5
}
